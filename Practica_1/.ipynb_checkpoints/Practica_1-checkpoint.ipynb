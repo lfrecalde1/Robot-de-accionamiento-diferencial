{
 "cells": [
  {
   "cell_type": "markdown",
   "metadata": {},
   "source": [
    "# <center><font color=\"blue\">Modelación Cinemática y Aplicación de Algoritmos de Control Avanzado en Webots</font></center>\n",
    "\n",
    "### <center>Luis F Recalde</center><center><font size=\"2\"><i>Universidad de las Fuerzas Armadas ESPE</i></font></center>\n",
    "#### <center>Santo Domingo de los Colorados, 21 de Septiembre de 2020</center>\n",
    "# <center><font color=\"red\">Introducción a Robots Móviles</font></center>\n",
    "\n",
    "## Sistemas moviles\n",
    "<div style=\"text-align: justify\"> Los sistemas móviles se pueden definir como sistemas que no están conectados al\n",
    "entorno y puede moverse en un espacio determinado. En cuanto al medio ambiente\n",
    "se mueven a través de ellos se pueden clasificar en algunos grupos principales: </div>\n",
    "\n",
    "### Sistemas móviles terrestres\n",
    "<div style=\"text-align: justify\"> Aquí se pueden encontrar varios tipos de plataformas móviles, como vehículos móviles con ruedas u orugas, robots con patas (humanoides o animales imitación), o robots que imitan algún otro tipo de locomoción animal, por ejemplo serpientes. Los sistemas móviles terrestres con ruedas u orugas que no llevan un operador a bordo se los conoce como vehículos terrestres no tripulados. </div>\n",
    "\n",
    "<center>\n",
    "<img src=\"1.jpg\" width=\"30%\" heigth=\"30%\" style=\"border:0; margin-top:20px\">\n",
    "</center>\n",
    "\n",
    "\n",
    "### Sistemas móviles aéreos\n",
    "<div style=\"text-align: justify\"> Este grupo está formado por sistemas móviles que vuelan en una determinada espacio (aviones, helicópteros, drones, cohetes); cuando no disponen de un piloto a bordo se les conoce como vehículos aéreos no tripulados. </div> \n",
    "\n",
    "\n",
    "<center>\n",
    "<img src=\"2.png\" width=\"30%\" heigth=\"30%\" style=\"border:0; margin-top:20px\">\n",
    "</center>\n",
    "\n",
    "\n",
    "### Sistemas móviles acuáticos y subacuáticos\n",
    "<div style=\"text-align: justify\"> En este grupo encontramos diferentes tipos por ejemplo barcos, submarinos, vehículos submarinos autónomos, etc. </div> \n",
    "\n",
    "\n",
    "<center>\n",
    "<img src=\"3.jpg\" width=\"30%\" heigth=\"30%\" style=\"border:0; margin-top:20px\">\n",
    "</center>\n",
    "\n",
    "## Cinemática de los robots móviles sobre ruedas\n",
    "Existen varios tipos de modelos cinemáticos:\n",
    "###  La cinemática interna\n",
    "Explica la relación entre las variables internas del sistema por ejemplo, rotación de la rueda y el movimiento del robot.\n",
    "### La cinemática externa\n",
    "Describe la posición y orientación del robot de acuerdo con\n",
    "algún marco de coordenadas de referencia.\n",
    "### Cinemática directa y cinemática inversa\n",
    "<div style=\"text-align: justify\"> Una cinemática directa describe\n",
    "estados del robot en función de sus entradas (velocidades de las ruedas, movimiento de las articulaciones,\n",
    "volante, etc.). A partir de la cinemática inversa se puede diseñar un movimiento\n",
    "planificación, lo que significa que las entradas del robot se pueden calcular para un\n",
    "secuencia de estado del robot deseada. </div> \n",
    "\n",
    "##  Robot de accionamiento diferencial\n",
    "\n",
    "<div style=\"text-align: justify\">La Robot Movil diferencial es un mecanismo de conducción muy simple que a menudo se\n",
    "utilizado en la práctica, especialmente para robots móviles pequeños. Estos Robots con esta configuracion\n",
    "suelen tener una o más ruedas giratorias (Locas) para sostener el vehículo y evitar\n",
    "inclinación. Posee dos  ruedas principales las cuales se colocan en un eje común. La velocidad de\n",
    "cada rueda está controlada por un motor independiente. </div> \n",
    "<center>\n",
    "<img src=\"4.png\" width=\"30%\" heigth=\"30%\" style=\"border:0; margin-top:20px\">\n",
    "</center>\n",
    "<div style=\"text-align: justify\">De acuerdo con la figura, las variables de entrada (control) son la velocidad de la rueda derecha $v_r(t)$ y la velocidad de la rueda izquierda $v_l(t)$. El significado de las demas variables en la figura son los siguientes: $r$ es el radio de la rueda, $L$ es la distancia entre las ruedas, $R(t)$ es el radio instantáneo de la trayectoria de conducción del vehículo (distancia entre el centro del vehículo y Punto ICR (centros instantáneos de rotación)). En cada instancia de tiempo, ambas ruedas tienen la misma velocidad angular $\\omega(t)$ alrededor del ICR como se muestra a continuacion </div>\n",
    "\n",
    "$$\\omega(t)=\\frac{v_l(t)}{R(t)-\\frac{L}{2}}$$\n",
    "\n",
    "$$\\omega(t)=\\frac{v_r(t)}{R(t)+\\frac{L}{2}}$$\n",
    "\n",
    "De donde $\\omega(t)$ y $R(t)$ se expresan a continuación:\n",
    "\n",
    "$$\\omega(t)=\\frac{v_r(t)-v_l(t)}{L}[rad/seg]$$\n",
    "\n",
    "$$R(t)=\\frac{L}{2}\\frac{v_r(t)+v_l(t)}{v_r(t)-v_l(t)}$$\n",
    "\n",
    "La velocidad tangencial del vehículo se calcula entonces como:\n",
    "\n",
    "$$v(t)=\\omega(t)R(t)=\\frac{v_r(t)+v_l(t)}{2}[m/s]$$\n",
    "\n",
    "Las velocidades tangenciales de las ruedas son:\n",
    "\n",
    "$$v_l(t)=r\\omega_l(t)$$\n",
    "\n",
    "$$v_r(t)=r\\omega_r(t)$$\n",
    "\n",
    "Donde $\\omega_l(t)$ y $\\omega_r(t)$ son las velocidades angulares izquierda y derecha de las ruedas\n",
    "alrededor de sus ejes, respectivamente.\n",
    "\n",
    "Teniendo en cuenta las relaciones anteriores, la cinemática del robot (en coordenadas locales) se puede expresar como:\n",
    "\n",
    "\\begin{equation*}\n",
    "\\begin{bmatrix}\n",
    "vx_m(t) \\\\\n",
    "vy_m(t) \\\\\n",
    "\\omega(t)\n",
    "\\end{bmatrix}=\n",
    "\\begin{bmatrix}\n",
    "\\frac{1}{2} & \\frac{1}{2} \\\\\n",
    "0 & 0 \\\\\n",
    "\\frac{1}{L} & -\\frac{1}{L}\n",
    "\\end{bmatrix}\n",
    "\\begin{bmatrix}\n",
    "v_r(t) \\\\\n",
    "v_l(t) \\\\\n",
    "\\end{bmatrix}\n",
    "\\label{eq:1} \\tag{1}\n",
    "\\end{equation*}\n",
    "\n",
    "\\begin{equation*}\n",
    "\\begin{bmatrix}\n",
    "vx_m(t) \\\\\n",
    "vy_m(t) \\\\\n",
    "\\omega(t)\n",
    "\\end{bmatrix}=\n",
    "\\begin{bmatrix}\n",
    "\\frac{1}{2} & \\frac{1}{2} \\\\\n",
    "0 & 0 \\\\\n",
    "\\frac{1}{L} & -\\frac{1}{L}\n",
    "\\end{bmatrix}\n",
    "\\begin{bmatrix}\n",
    "v_r(t) \\\\\n",
    "v_l(t) \\\\\n",
    "\\end{bmatrix}\n",
    "\\label{eq:2} \\tag{2}\n",
    "\\end{equation*}\n",
    "\n",
    "\\begin{equation*}\n",
    "\\begin{bmatrix}\n",
    "v_r(t) \\\\\n",
    "v_l(t) \\\\\n",
    "\\end{bmatrix}=\n",
    "\\begin{bmatrix}\n",
    "r & 0 \\\\\n",
    "0 & r \\\\\n",
    "\\end{bmatrix}\n",
    "\\begin{bmatrix}\n",
    "\\omega_r(t) \\\\\n",
    "\\omega_l(t)\n",
    "\\end{bmatrix}\n",
    "\\label{eq:3} \\tag{3}\n",
    "\\end{equation*}\n",
    "\n",
    "\\begin{equation*}\n",
    "\\begin{bmatrix}\n",
    "vx_m(t) \\\\\n",
    "vy_m(t) \\\\\n",
    "\\omega(t)\n",
    "\\end{bmatrix}=\n",
    "\\begin{bmatrix}\n",
    "\\frac{1}{2} & \\frac{1}{2} \\\\\n",
    "0 & 0 \\\\\n",
    "\\frac{1}{L} & -\\frac{1}{L}\n",
    "\\end{bmatrix}\n",
    "\\begin{bmatrix}\n",
    "r & 0 \\\\\n",
    "0 & r \\\\\n",
    "\\end{bmatrix}\n",
    "\\begin{bmatrix}\n",
    "\\omega_r(t) \\\\\n",
    "\\omega_l(t)\n",
    "\\end{bmatrix}\n",
    "\\label{eq:4} \\tag{4}\n",
    "\\end{equation*}\n",
    "\n",
    "\n",
    "\\begin{equation*}\n",
    "\\begin{bmatrix}\n",
    "vx_m(t) \\\\\n",
    "vy_m(t) \\\\\n",
    "\\omega(t)\n",
    "\\end{bmatrix}=\n",
    "\\begin{bmatrix}\n",
    "\\frac{r}{2} & \\frac{r}{2} \\\\\n",
    "0 & 0 \\\\\n",
    "\\frac{r}{L} & -\\frac{r}{L}\n",
    "\\end{bmatrix}\n",
    "\\begin{bmatrix}\n",
    "\\omega_r(t) \\\\\n",
    "\\omega_l(t)\n",
    "\\end{bmatrix}\n",
    "\\label{eq:5} \\tag{5}\n",
    "\\end{equation*}\n",
    "\n",
    "\n",
    "La cinemática externa del robot (en coordenadas globales) está dada por:\n",
    "\n",
    "\\begin{equation*}\n",
    "\\begin{bmatrix}\n",
    "\\dot x(t) \\\\\n",
    "\\dot y(t) \\\\\n",
    "\\dot\\varphi(t)\n",
    "\\end{bmatrix}=\n",
    "\\begin{bmatrix}\n",
    "\\cos(\\varphi) & 0 \\\\\n",
    "\\sin(\\varphi) & 0 \\\\\n",
    "0 & 1\n",
    "\\end{bmatrix}\n",
    "\\begin{bmatrix}\n",
    " v(t)\\\\\n",
    "\\omega(t) \\\\\n",
    "\\end{bmatrix}\n",
    "\\label{eq:6} \\tag{6}\n",
    "\\end{equation*}\n",
    "\n",
    "<div style=\"text-align: justify\">\n",
    "donde $v(t)$ y $\\omega(t)$ son las variables de control del robot movil, es necesario conocer las posiciones y la orientación del robot, por lo cual se utiliza la integracion de euler para encontrar una solucion aproximada del sistema, se puede obtener la solucion exacta pero para este tipo de sistemas es mejor utilizar una aproximacion nuemrica en la cual se asegure un tiempo se muestreo bajo. </div>\n",
    "\n",
    "$$x(k+1)=x(k)+v(k)T_s\\cos(\\varphi(k))$$\n",
    "\n",
    "$$y(k+1)=y(k)+v(k)T_s\\sin(\\varphi(k))$$\n",
    "\n",
    "$$\\varphi(k+1)=\\varphi(k)+\\omega(k)T_s$$\n",
    "\n",
    "\n",
    "Vector **r** is defined by equation $\\eqref{eq:vector_ray}$"
   ]
  },
  {
   "cell_type": "markdown",
   "metadata": {},
   "source": [
    "##  Implementación del Modelo del Robot Movil\n",
    "\n",
    "### Importar las librerias necesarias"
   ]
  },
  {
   "cell_type": "code",
   "execution_count": 16,
   "metadata": {},
   "outputs": [],
   "source": [
    "import numpy as np\n",
    "import matplotlib.pyplot as plt\n",
    "from numpy.linalg import inv\n",
    "import time\n",
    "import matplotlib as mpl"
   ]
  },
  {
   "cell_type": "markdown",
   "metadata": {},
   "source": [
    "#### Tiempos para la simulacion"
   ]
  },
  {
   "cell_type": "code",
   "execution_count": 54,
   "metadata": {},
   "outputs": [
    {
     "name": "stdout",
     "output_type": "stream",
     "text": [
      "(1, 61)\n",
      "[[0.  0.1 0.2 0.3 0.4 0.5 0.6 0.7 0.8 0.9 1.  1.1 1.2 1.3 1.4 1.5 1.6 1.7\n",
      "  1.8 1.9 2.  2.1 2.2 2.3 2.4 2.5 2.6 2.7 2.8 2.9 3.  3.1 3.2 3.3 3.4 3.5\n",
      "  3.6 3.7 3.8 3.9 4.  4.1 4.2 4.3 4.4 4.5 4.6 4.7 4.8 4.9 5.  5.1 5.2 5.3\n",
      "  5.4 5.5 5.6 5.7 5.8 5.9 6. ]]\n"
     ]
    }
   ],
   "source": [
    "t_sample=0.1\n",
    "t_final=6+t_sample\n",
    "t=np.arange(0,t_final,t_sample)\n",
    "t=t.reshape(1,t.shape[0])\n",
    "print(t.shape)\n",
    "print(t)"
   ]
  },
  {
   "cell_type": "markdown",
   "metadata": {},
   "source": [
    "### Parametros del robot diferencial"
   ]
  },
  {
   "cell_type": "code",
   "execution_count": 55,
   "metadata": {},
   "outputs": [],
   "source": [
    "a=0.1"
   ]
  },
  {
   "cell_type": "markdown",
   "metadata": {},
   "source": [
    "### Cinematica \n",
    "Se inicializa los vectores vacios para que sean almacenados en cada instante de tiempo"
   ]
  },
  {
   "cell_type": "code",
   "execution_count": 56,
   "metadata": {},
   "outputs": [],
   "source": [
    "xp=np.zeros((t.shape[0],t.shape[1]))\n",
    "yp=np.zeros((t.shape[0],t.shape[1]))\n",
    "u=0.1*np.ones((t.shape[0],t.shape[1]))\n",
    "w=0.1*np.ones((t.shape[0],t.shape[1]))"
   ]
  },
  {
   "cell_type": "markdown",
   "metadata": {},
   "source": [
    "### Integracion\n",
    "Se iniciliza los valores para que sean almacenados en cada instante de tiempo"
   ]
  },
  {
   "cell_type": "code",
   "execution_count": 57,
   "metadata": {},
   "outputs": [],
   "source": [
    "x=np.zeros((t.shape[0],t.shape[1]))\n",
    "y=np.zeros((t.shape[0],t.shape[1]))\n",
    "phi=np.zeros((t.shape[0],t.shape[1]))\n"
   ]
  },
  {
   "cell_type": "markdown",
   "metadata": {},
   "source": [
    "### Condiciones iniciales del sistema"
   ]
  },
  {
   "cell_type": "code",
   "execution_count": 58,
   "metadata": {},
   "outputs": [],
   "source": [
    "x[0,0]=0\n",
    "y[0,0]=0\n",
    "phi[0,0]=(0*np.pi)/180\n"
   ]
  },
  {
   "cell_type": "markdown",
   "metadata": {},
   "source": [
    "### Bucle simulacion"
   ]
  },
  {
   "cell_type": "code",
   "execution_count": 59,
   "metadata": {},
   "outputs": [],
   "source": [
    "for k in range(0,t.shape[1]-1):\n",
    "    ## Representacion del jacobiano del sistema\n",
    "    J=np.matrix([[np.cos(phi[0,k]),0],[np.sin(phi[0,k]),0]])\n",
    "    \n",
    "    ## Vcestor de entradas del sistema\n",
    "    v=np.array([[u[0,k]],[w[0,k]]])\n",
    "    \n",
    "    ## Velocidad del punto modelado\n",
    "    hp=J*v\n",
    "    \n",
    "    ## Obtener las velocidades en Cada eje\n",
    "    xp[0,k]=hp[0,0]\n",
    "    yp[0,k]=hp[1,0]\n",
    "    \n",
    "    ## Integracion numerica\n",
    "    x[0,k+1]=x[0,k]+xp[0,k]*t_sample\n",
    "    y[0,k+1]=y[0,k]+yp[0,k]*t_sample\n",
    "    phi[0,k+1]=phi[0,k]+w[0,k]*t_sample"
   ]
  },
  {
   "cell_type": "code",
   "execution_count": 60,
   "metadata": {},
   "outputs": [
    {
     "data": {
      "image/png": "[encoded data removed]",
      "text/plain": [
       "<Figure size 640x480 with 1 Axes>"
      ]
     },
     "metadata": {},
     "output_type": "display_data"
    }
   ],
   "source": [
    "def demo(sty,x,y):\n",
    "    mpl.style.use(sty)\n",
    "    fig, ax = plt.subplots()\n",
    "\n",
    "    ax.set_title('$Tayectoria$'.format(sty), color='0')\n",
    "    ax.set_xlabel(r'$x[m]$')\n",
    "    ax.set_ylabel(r'$y[m]$')\n",
    "    ax.plot(x, y, 'r', label='$\\mathbf{\\eta(t)}$')\n",
    "    ax.grid(linestyle='--', linewidth='0.3', color='black')\n",
    "    legend = ax.legend(loc='upper right', shadow=False, fontsize='small')\n",
    "\n",
    "demo('default',x[0,:],y[0,:])\n"
   ]
  },
  {
   "cell_type": "code",
   "execution_count": 33,
   "metadata": {},
   "outputs": [
    {
     "data": {
      "text/plain": [
       "array([[0. , 0.1, 0.2, 0.3, 0.4, 0.5, 0.6, 0.7, 0.8, 0.9, 1. , 1.1, 1.2,\n",
       "        1.3, 1.4, 1.5, 1.6, 1.7, 1.8, 1.9, 2. , 2.1, 2.2, 2.3, 2.4, 2.5,\n",
       "        2.6, 2.7, 2.8, 2.9, 3. , 3.1, 3.2, 3.3, 3.4, 3.5, 3.6, 3.7, 3.8,\n",
       "        3.9, 4. , 4.1, 4.2, 4.3, 4.4, 4.5, 4.6, 4.7, 4.8, 4.9, 5. ]])"
      ]
     },
     "execution_count": 33,
     "metadata": {},
     "output_type": "execute_result"
    }
   ],
   "source": [
    "t"
   ]
  },
  {
   "cell_type": "code",
   "execution_count": 48,
   "metadata": {},
   "outputs": [
    {
     "data": {
      "text/plain": [
       "(1, 51)"
      ]
     },
     "execution_count": 48,
     "metadata": {},
     "output_type": "execute_result"
    }
   ],
   "source": [
    "t.shape"
   ]
  },
  {
   "cell_type": "code",
   "execution_count": 49,
   "metadata": {},
   "outputs": [
    {
     "data": {
      "text/plain": [
       "(1, 51)"
      ]
     },
     "execution_count": 49,
     "metadata": {},
     "output_type": "execute_result"
    }
   ],
   "source": [
    "x.shape"
   ]
  },
  {
   "cell_type": "code",
   "execution_count": null,
   "metadata": {},
   "outputs": [],
   "source": []
  }
 ],
 "metadata": {
  "kernelspec": {
   "display_name": "Python 3",
   "language": "python",
   "name": "python3"
  },
  "language_info": {
   "codemirror_mode": {
    "name": "ipython",
    "version": 3
   },
   "file_extension": ".py",
   "mimetype": "text/x-python",
   "name": "python",
   "nbconvert_exporter": "python",
   "pygments_lexer": "ipython3",
   "version": "3.6.9"
  }
 },
 "nbformat": 4,
 "nbformat_minor": 4
}
